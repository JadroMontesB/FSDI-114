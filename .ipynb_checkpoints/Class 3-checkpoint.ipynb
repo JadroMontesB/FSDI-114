{
 "cells": [
  {
   "cell_type": "code",
   "execution_count": 19,
   "id": "4ccc1250",
   "metadata": {},
   "outputs": [
    {
     "name": "stdout",
     "output_type": "stream",
     "text": [
      "0\n",
      "1\n",
      "2\n",
      "3\n",
      "4\n"
     ]
    }
   ],
   "source": [
    "class Queue2Stacks:\n",
    "    def __init__(self):\n",
    "        self.stack1 = []\n",
    "        self.stack2 = []\n",
    "        \n",
    "    def enqueue(self, element):\n",
    "        self.stack1.append(element)\n",
    "    \n",
    "    def dequeue(self):\n",
    "        while self.stack1:\n",
    "            element = self.stack1.pop()\n",
    "            self.stack2.append(element)\n",
    "        return self.stack2.pop()\n",
    "    \n",
    "def test():\n",
    "    q = Queue2Stacks()\n",
    "    for i in range(5):\n",
    "        q.enqueue(i)\n",
    "    for i in range(5):\n",
    "         print(q.dequeue())\n",
    "            \n",
    "test()"
   ]
  },
  {
   "cell_type": "code",
   "execution_count": 21,
   "id": "73d3963e",
   "metadata": {},
   "outputs": [
    {
     "data": {
      "text/plain": [
       "24"
      ]
     },
     "execution_count": 21,
     "metadata": {},
     "output_type": "execute_result"
    }
   ],
   "source": [
    "def fact(n):\n",
    "    if n == 0:\n",
    "        return 1\n",
    "    return n * fact(n-1)\n",
    "\n",
    "fact(4)"
   ]
  },
  {
   "cell_type": "code",
   "execution_count": null,
   "id": "1062801f",
   "metadata": {},
   "outputs": [],
   "source": [
    "def fib(n):\n",
    "    if n < 2:\n",
    "        return n\n",
    "    return fib(n-1) + fib(n-2)\n"
   ]
  },
  {
   "cell_type": "code",
   "execution_count": 28,
   "id": "e84a3585",
   "metadata": {},
   "outputs": [
    {
     "data": {
      "text/plain": [
       "1"
      ]
     },
     "execution_count": 28,
     "metadata": {},
     "output_type": "execute_result"
    }
   ],
   "source": [
    "fib(2)"
   ]
  },
  {
   "cell_type": "code",
   "execution_count": 34,
   "id": "a5bc5c56",
   "metadata": {},
   "outputs": [
    {
     "data": {
      "text/plain": [
       "55"
      ]
     },
     "execution_count": 34,
     "metadata": {},
     "output_type": "execute_result"
    }
   ],
   "source": [
    "from functools import lru_cache\n",
    "\n",
    "@lru_cache\n",
    "def fib_2(n):\n",
    "    if n < 2:\n",
    "        return n\n",
    "    return fib_2(n-1) + fib_2(n-2)\n",
    "\n",
    "fib_2(10)"
   ]
  },
  {
   "cell_type": "code",
   "execution_count": 39,
   "id": "f4c8f8b3",
   "metadata": {},
   "outputs": [],
   "source": [
    "fib_numbers = {}\n",
    "\n",
    "def fib_3(n):\n",
    "    if n in fib_numbers.keys():\n",
    "        return fib_numbers.get(n)\n",
    "    else:\n",
    "        if n < 2:\n",
    "            return n\n",
    "        fib_numbers[n] = fib_3(n-1) + fib_3(n-2)\n",
    "        return fib_numbers.get(n)"
   ]
  },
  {
   "cell_type": "code",
   "execution_count": 41,
   "id": "19ab8fa0",
   "metadata": {},
   "outputs": [
    {
     "data": {
      "text/plain": [
       "55"
      ]
     },
     "execution_count": 41,
     "metadata": {},
     "output_type": "execute_result"
    }
   ],
   "source": [
    "fib_3(10)"
   ]
  },
  {
   "cell_type": "code",
   "execution_count": 43,
   "id": "f6a2543d",
   "metadata": {},
   "outputs": [],
   "source": [
    "class Node:\n",
    "    def __init__(self, data):\n",
    "        self.data = data\n",
    "        self.next = None"
   ]
  },
  {
   "cell_type": "code",
   "execution_count": 58,
   "id": "f1e39823",
   "metadata": {},
   "outputs": [
    {
     "name": "stdout",
     "output_type": "stream",
     "text": [
      "0\n",
      "1\n",
      "2\n",
      "[0, 1, 2, 3]\n"
     ]
    }
   ],
   "source": [
    "head = Node(0)\n",
    "\n",
    "node1 = Node(1)\n",
    "\n",
    "head.next = node1\n",
    "\n",
    "node2 = Node(2)\n",
    "\n",
    "node1.next = node2 \n",
    "\n",
    "current = head\n",
    "\n",
    "while current:\n",
    "    print(current.data)\n",
    "    current = current.next\n",
    "\n",
    "rep_python_list = [0,1,2,3]\n",
    "print(rep_python_list)"
   ]
  },
  {
   "cell_type": "code",
   "execution_count": 64,
   "id": "f391c82a",
   "metadata": {},
   "outputs": [],
   "source": [
    "class SinglyLinkedList:\n",
    "    def __init__(self):\n",
    "        self.head = None\n",
    "        \n",
    "    def append(self, item):\n",
    "        if not self.head:\n",
    "            self.head = Node(item)\n",
    "        \n",
    "        else:\n",
    "            current = self.head\n",
    "            while current.next:\n",
    "                current = current.next\n",
    "            current.next = Node(item)\n",
    "    \n",
    "    def __str__(self):\n",
    "        out_str = \"[\"\n",
    "        current = self.head\n",
    "        while current:\n",
    "            out_str += \"%s,\" % str(current.data)\n",
    "            current = current.next\n",
    "        out_str += \"]\"\n",
    "        return out_str"
   ]
  },
  {
   "cell_type": "code",
   "execution_count": 65,
   "id": "7929454c",
   "metadata": {},
   "outputs": [
    {
     "name": "stdout",
     "output_type": "stream",
     "text": [
      "[0,1,2,3,4,]\n"
     ]
    }
   ],
   "source": [
    "sll = SinglyLinkedList()\n",
    "\n",
    "for i in range(5):\n",
    "    sll.append(i)\n",
    "\n",
    "print(sll)"
   ]
  },
  {
   "cell_type": "code",
   "execution_count": null,
   "id": "b2d8c9d2",
   "metadata": {},
   "outputs": [],
   "source": []
  }
 ],
 "metadata": {
  "kernelspec": {
   "display_name": "Python 3 (ipykernel)",
   "language": "python",
   "name": "python3"
  },
  "language_info": {
   "codemirror_mode": {
    "name": "ipython",
    "version": 3
   },
   "file_extension": ".py",
   "mimetype": "text/x-python",
   "name": "python",
   "nbconvert_exporter": "python",
   "pygments_lexer": "ipython3",
   "version": "3.8.10"
  }
 },
 "nbformat": 4,
 "nbformat_minor": 5
}
