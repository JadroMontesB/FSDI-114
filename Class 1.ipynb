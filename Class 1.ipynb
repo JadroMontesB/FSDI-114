{
 "cells": [
  {
   "cell_type": "code",
   "execution_count": 1,
   "id": "916ffe2e",
   "metadata": {},
   "outputs": [
    {
     "name": "stdout",
     "output_type": "stream",
     "text": [
      "h\n",
      "e\n",
      "l\n",
      "l\n",
      "o\n",
      " \n",
      "w\n",
      "o\n",
      "r\n",
      "l\n",
      "d\n"
     ]
    }
   ],
   "source": [
    "for letter in \"hello world\":\n",
    "    print (letter)\n"
   ]
  },
  {
   "cell_type": "markdown",
   "id": "b3edd9b6",
   "metadata": {},
   "source": [
    "# Problem 1\n",
    "## Anagram check.\n",
    "\n",
    "#### Check if two strings are anagrams of each other considering the following:\n",
    "\n",
    "##### Given two strings (strings_a and string b) we must first validate that these are of equal length and that use the same characters in the exact same amount of times.\n",
    "\n",
    "##### For example: cars and scar are anagrams but cars and scaar are not; Similarly, scar and sccr are not anagrams of each other."
   ]
  },
  {
   "cell_type": "code",
   "execution_count": 13,
   "id": "792c0d47",
   "metadata": {},
   "outputs": [],
   "source": [
    "# def is_anagram(string_a, string_b) :\n",
    "#    return sorted(string_a) == sorted(string_b)"
   ]
  },
  {
   "cell_type": "code",
   "execution_count": 14,
   "id": "f8fd9545",
   "metadata": {},
   "outputs": [
    {
     "data": {
      "text/plain": [
       "True"
      ]
     },
     "execution_count": 14,
     "metadata": {},
     "output_type": "execute_result"
    }
   ],
   "source": [
    "is_anagram(\"heart\", \"earth\")"
   ]
  },
  {
   "cell_type": "code",
   "execution_count": 15,
   "id": "e108479e",
   "metadata": {},
   "outputs": [
    {
     "data": {
      "text/plain": [
       "False"
      ]
     },
     "execution_count": 15,
     "metadata": {},
     "output_type": "execute_result"
    }
   ],
   "source": [
    "is_anagram(\"cars\", \"sccr\")"
   ]
  },
  {
   "cell_type": "code",
   "execution_count": 17,
   "id": "e19c8050",
   "metadata": {},
   "outputs": [
    {
     "name": "stdout",
     "output_type": "stream",
     "text": [
      "True\n"
     ]
    }
   ],
   "source": [
    "# keys = [\"a\",\"b\",\"c\",...\"z\"]\n",
    "# values = [1,2,3,...26]\n",
    "\n",
    "# string_a = \"cars\"\n",
    "# string_b = \"scar\"\n",
    "out = 0 \n",
    "for letter in \"cars\":\n",
    "    out += ord (letter)\n",
    "    \n",
    "out2 = 0\n",
    "for letter in \"scar\":\n",
    "    out2 += ord(letter)\n",
    "    \n",
    "print (out == out2)"
   ]
  },
  {
   "cell_type": "code",
   "execution_count": 14,
   "id": "33622d18",
   "metadata": {},
   "outputs": [],
   "source": [
    "def is_anagram(string_a, string_b):\n",
    "    string_a = (string_a.replace(\"\",\"\")).string_a.lower()\n",
    "    string_b = (string_b.replace(\"\",\"\")).string_a.lower()\n",
    "    if len(string_a) != len(string_b):\n",
    "        return False\n",
    "    char_times_a = dict()\n",
    "    char_times_b = dict()\n",
    "    for i in range(len(string_a)):\n",
    "        if string_a[i] not in char_times_a.keys():\n",
    "            char_times_a[string_a[i]] = 1\n",
    "        else:\n",
    "            char_times_a[string_a[i]] += 1\n",
    "        if string_b[i] not in char_times_b.keys():\n",
    "            char_times_b[string_b[i]] = 1\n",
    "        else:\n",
    "            char_times_b[string_b[i]] += 1\n",
    "    return char_times_a == char_times_b"
   ]
  },
  {
   "cell_type": "code",
   "execution_count": 6,
   "id": "5cc4ff48",
   "metadata": {},
   "outputs": [
    {
     "data": {
      "text/plain": [
       "True"
      ]
     },
     "execution_count": 6,
     "metadata": {},
     "output_type": "execute_result"
    }
   ],
   "source": [
    "is_anagram(\"cars\", \"scar\")"
   ]
  },
  {
   "cell_type": "code",
   "execution_count": 15,
   "id": "fcd6c28a",
   "metadata": {},
   "outputs": [
    {
     "ename": "AttributeError",
     "evalue": "'str' object has no attribute 'string_a'",
     "output_type": "error",
     "traceback": [
      "\u001b[0;31m---------------------------------------------------------------------------\u001b[0m",
      "\u001b[0;31mAttributeError\u001b[0m                            Traceback (most recent call last)",
      "Input \u001b[0;32mIn [15]\u001b[0m, in \u001b[0;36m<cell line: 4>\u001b[0;34m()\u001b[0m\n\u001b[1;32m      1\u001b[0m string_a \u001b[38;5;241m=\u001b[39m \u001b[38;5;124m\"\u001b[39m\u001b[38;5;124mI am lord voldemort\u001b[39m\u001b[38;5;124m\"\u001b[39m\n\u001b[1;32m      2\u001b[0m string_b \u001b[38;5;241m=\u001b[39m \u001b[38;5;124m\"\u001b[39m\u001b[38;5;124mTom Marvolo Riddle\u001b[39m\u001b[38;5;124m\"\u001b[39m\n\u001b[0;32m----> 4\u001b[0m \u001b[43mis_anagram\u001b[49m\u001b[43m(\u001b[49m\u001b[43mstring_a\u001b[49m\u001b[43m,\u001b[49m\u001b[43m \u001b[49m\u001b[43mstring_b\u001b[49m\u001b[43m)\u001b[49m\n",
      "Input \u001b[0;32mIn [14]\u001b[0m, in \u001b[0;36mis_anagram\u001b[0;34m(string_a, string_b)\u001b[0m\n\u001b[1;32m      1\u001b[0m \u001b[38;5;28;01mdef\u001b[39;00m \u001b[38;5;21mis_anagram\u001b[39m(string_a, string_b):\n\u001b[0;32m----> 2\u001b[0m     string_a \u001b[38;5;241m=\u001b[39m \u001b[43m(\u001b[49m\u001b[43mstring_a\u001b[49m\u001b[38;5;241;43m.\u001b[39;49m\u001b[43mreplace\u001b[49m\u001b[43m(\u001b[49m\u001b[38;5;124;43m\"\u001b[39;49m\u001b[38;5;124;43m\"\u001b[39;49m\u001b[43m,\u001b[49m\u001b[38;5;124;43m\"\u001b[39;49m\u001b[38;5;124;43m\"\u001b[39;49m\u001b[43m)\u001b[49m\u001b[43m)\u001b[49m\u001b[38;5;241;43m.\u001b[39;49m\u001b[43mstring_a\u001b[49m\u001b[38;5;241m.\u001b[39mlower()\n\u001b[1;32m      3\u001b[0m     string_b \u001b[38;5;241m=\u001b[39m (string_b\u001b[38;5;241m.\u001b[39mreplace(\u001b[38;5;124m\"\u001b[39m\u001b[38;5;124m\"\u001b[39m,\u001b[38;5;124m\"\u001b[39m\u001b[38;5;124m\"\u001b[39m))\u001b[38;5;241m.\u001b[39mstring_a\u001b[38;5;241m.\u001b[39mlower()\n\u001b[1;32m      4\u001b[0m     \u001b[38;5;28;01mif\u001b[39;00m \u001b[38;5;28mlen\u001b[39m(string_a) \u001b[38;5;241m!=\u001b[39m \u001b[38;5;28mlen\u001b[39m(string_b):\n",
      "\u001b[0;31mAttributeError\u001b[0m: 'str' object has no attribute 'string_a'"
     ]
    }
   ],
   "source": [
    "string_a = \"I am lord voldemort\"\n",
    "string_b = \"Tom Marvolo Riddle\"\n",
    "\n",
    "is_anagram(string_a, string_b)"
   ]
  },
  {
   "cell_type": "code",
   "execution_count": null,
   "id": "9c6ae9e2",
   "metadata": {},
   "outputs": [],
   "source": []
  }
 ],
 "metadata": {
  "kernelspec": {
   "display_name": "Python 3 (ipykernel)",
   "language": "python",
   "name": "python3"
  },
  "language_info": {
   "codemirror_mode": {
    "name": "ipython",
    "version": 3
   },
   "file_extension": ".py",
   "mimetype": "text/x-python",
   "name": "python",
   "nbconvert_exporter": "python",
   "pygments_lexer": "ipython3",
   "version": "3.8.10"
  }
 },
 "nbformat": 4,
 "nbformat_minor": 5
}
