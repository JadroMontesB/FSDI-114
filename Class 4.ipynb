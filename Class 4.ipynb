{
 "cells": [
  {
   "cell_type": "code",
   "execution_count": 37,
   "id": "4e85fe6c",
   "metadata": {},
   "outputs": [],
   "source": [
    "class Node:\n",
    "    def __init__(self, data):\n",
    "        self.data = data\n",
    "        self.next = None\n",
    "\n",
    "        \n",
    "class SinglyLinkedList:\n",
    "    def __init__(self):\n",
    "        self.head = None\n",
    "        \n",
    "    def append(self, item):\n",
    "        if not self.head:\n",
    "            self.head = Node(item)    \n",
    "        else:\n",
    "            current = self.head\n",
    "            while current.next:\n",
    "                current = current.next\n",
    "            current.next = Node(item)\n",
    "    \n",
    "    def insert(self, index, value):\n",
    "        new_node = Node(value)\n",
    "        if not self.head:\n",
    "            self.head = new_node\n",
    "        else:\n",
    "            if index == 0:\n",
    "                temp_node = self.head\n",
    "                self.head = new_node\n",
    "                new_node.next = temp_node\n",
    "            else: \n",
    "                counter = 0\n",
    "                prev_node = None\n",
    "                current = self.head\n",
    "                while current.next and index != counter:\n",
    "                    counter += 1\n",
    "                    prev_node = current\n",
    "                    current = current.next\n",
    "                if not current.next:\n",
    "                    current.next = new_node\n",
    "                else: \n",
    "                    prev_node.next = new_node\n",
    "                    new_node.next = current\n",
    "                    \n",
    "    def remove(self, value):\n",
    "            current = self.head\n",
    "            if current.data == value:\n",
    "                self.head = current.next\n",
    "            else:\n",
    "                prev_node = None\n",
    "                while current.next and current.data != value:\n",
    "                    prev_node = current\n",
    "                    current = current.next \n",
    "                if current.data == value:\n",
    "                    prev_node.next = current.next\n",
    "                else:\n",
    "                    raise ValueError(\"%s not in list\" %  repr(value))\n",
    "                \n",
    "                    \n",
    "    def __str__(self):\n",
    "        out_str = \"[\"\n",
    "        current = self.head\n",
    "        while current.next:\n",
    "            out_str += \"%s,\" % repr(current.data)\n",
    "            current = current.next\n",
    "        out_str += \"%s]\" % current.data\n",
    "        return out_str"
   ]
  },
  {
   "cell_type": "code",
   "execution_count": 36,
   "id": "d0af377c",
   "metadata": {},
   "outputs": [
    {
     "ename": "ValueError",
     "evalue": "'Rafael' not in list",
     "output_type": "error",
     "traceback": [
      "\u001b[0;31m---------------------------------------------------------------------------\u001b[0m",
      "\u001b[0;31mValueError\u001b[0m                                Traceback (most recent call last)",
      "Input \u001b[0;32mIn [36]\u001b[0m, in \u001b[0;36m<cell line: 11>\u001b[0;34m()\u001b[0m\n\u001b[1;32m      8\u001b[0m mylist\u001b[38;5;241m.\u001b[39minsert(\u001b[38;5;241m2\u001b[39m,\u001b[38;5;124m\"\u001b[39m\u001b[38;5;124mnew\u001b[39m\u001b[38;5;124m\"\u001b[39m)\n\u001b[1;32m      9\u001b[0m sll\u001b[38;5;241m.\u001b[39minsert(\u001b[38;5;241m2\u001b[39m,\u001b[38;5;124m\"\u001b[39m\u001b[38;5;124mnew\u001b[39m\u001b[38;5;124m\"\u001b[39m)\n\u001b[0;32m---> 11\u001b[0m \u001b[43msll\u001b[49m\u001b[38;5;241;43m.\u001b[39;49m\u001b[43mremove\u001b[49m\u001b[43m(\u001b[49m\u001b[38;5;124;43m\"\u001b[39;49m\u001b[38;5;124;43mRafael\u001b[39;49m\u001b[38;5;124;43m\"\u001b[39;49m\u001b[43m)\u001b[49m\n\u001b[1;32m     13\u001b[0m \u001b[38;5;28mprint\u001b[39m(mylist)\n\u001b[1;32m     14\u001b[0m \u001b[38;5;28mprint\u001b[39m(sll)\n",
      "Input \u001b[0;32mIn [35]\u001b[0m, in \u001b[0;36mSinglyLinkedList.remove\u001b[0;34m(self, value)\u001b[0m\n\u001b[1;32m     49\u001b[0m     prev_node\u001b[38;5;241m.\u001b[39mnext \u001b[38;5;241m=\u001b[39m current\u001b[38;5;241m.\u001b[39mnext\n\u001b[1;32m     50\u001b[0m \u001b[38;5;28;01melse\u001b[39;00m:\n\u001b[0;32m---> 51\u001b[0m     \u001b[38;5;28;01mraise\u001b[39;00m \u001b[38;5;167;01mValueError\u001b[39;00m(\u001b[38;5;124m\"\u001b[39m\u001b[38;5;132;01m%s\u001b[39;00m\u001b[38;5;124m not in list\u001b[39m\u001b[38;5;124m\"\u001b[39m \u001b[38;5;241m%\u001b[39m  \u001b[38;5;28mrepr\u001b[39m(value))\n",
      "\u001b[0;31mValueError\u001b[0m: 'Rafael' not in list"
     ]
    }
   ],
   "source": [
    "mylist = [1,2,3,4]\n",
    "\n",
    "sll = SinglyLinkedList()\n",
    "\n",
    "for i in range(5):\n",
    "    sll.append(i)\n",
    "\n",
    "mylist.insert(2,\"new\")\n",
    "sll.insert(2,\"new\")\n",
    "\n",
    "sll.remove(\"Rafael\")\n",
    "\n",
    "print(mylist)\n",
    "print(sll)"
   ]
  },
  {
   "cell_type": "code",
   "execution_count": 22,
   "id": "d1a5ab01",
   "metadata": {},
   "outputs": [
    {
     "name": "stdout",
     "output_type": "stream",
     "text": [
      "5\n",
      "6\n"
     ]
    }
   ],
   "source": [
    "# Example of pass by value:\n",
    "\n",
    "x = 5\n",
    "y = x\n",
    "\n",
    "y += 1 \n",
    "\n",
    "print(x)\n",
    "print(y)"
   ]
  },
  {
   "cell_type": "code",
   "execution_count": 25,
   "id": "1f5a36d5",
   "metadata": {},
   "outputs": [
    {
     "name": "stdout",
     "output_type": "stream",
     "text": [
      "[1, 2, 3, 4, 5]\n",
      "[1, 2, 3, 4, 5]\n",
      "139885969609792\n",
      "139885969609792\n"
     ]
    }
   ],
   "source": [
    "# Example of pass by reference:\n",
    "\n",
    "x = [1, 2, 3, 4]\n",
    "y = x\n",
    "\n",
    "y.append(5)\n",
    "\n",
    "print(x)\n",
    "print(y)\n",
    "\n",
    "print(id(x))\n",
    "print(id(y))"
   ]
  },
  {
   "cell_type": "code",
   "execution_count": null,
   "id": "3077e599",
   "metadata": {},
   "outputs": [],
   "source": []
  }
 ],
 "metadata": {
  "kernelspec": {
   "display_name": "Python 3 (ipykernel)",
   "language": "python",
   "name": "python3"
  },
  "language_info": {
   "codemirror_mode": {
    "name": "ipython",
    "version": 3
   },
   "file_extension": ".py",
   "mimetype": "text/x-python",
   "name": "python",
   "nbconvert_exporter": "python",
   "pygments_lexer": "ipython3",
   "version": "3.8.10"
  }
 },
 "nbformat": 4,
 "nbformat_minor": 5
}
