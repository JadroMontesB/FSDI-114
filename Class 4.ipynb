{
 "cells": [
  {
   "cell_type": "code",
   "execution_count": 4,
   "id": "4e85fe6c",
   "metadata": {},
   "outputs": [],
   "source": [
    "class Node:\n",
    "    def __init__(self, data):\n",
    "        self.data = data\n",
    "        self.next = None\n",
    "\n",
    "        \n",
    "class SinglyLinkedList:\n",
    "    def __init__(self):\n",
    "        self.head = None\n",
    "        \n",
    "    def append(self, item):\n",
    "        if not self.head:\n",
    "            self.head = Node(item)    \n",
    "        else:\n",
    "            current = self.head\n",
    "            while current.next:\n",
    "                current = current.next\n",
    "            current.next = Node(item)\n",
    "    \n",
    "    def insert(self, index, value):\n",
    "        new_node = Node(value)\n",
    "        if not self.head:\n",
    "            self.head = new_node\n",
    "        else:\n",
    "            if index == 0:\n",
    "                temp_node = self.head\n",
    "                self.head = new_node\n",
    "                new_node.next = temp_node\n",
    "            else: \n",
    "                counter = 0\n",
    "                prev_node = None\n",
    "                current = self.head\n",
    "                while current.next and index != counter:\n",
    "                    counter += 1\n",
    "                    prev_node = current\n",
    "                    current = current.next\n",
    "                if not current.next:\n",
    "                    current.next = new_node\n",
    "                else: \n",
    "                    prev_node.next = new_node\n",
    "                    new_node.next = current\n",
    "                    \n",
    "    def remove(self, value):\n",
    "            current = self.head\n",
    "            if current.data == value:\n",
    "                self.head = current.next\n",
    "            else:\n",
    "                prev_node = None\n",
    "                while current.next and current.data != value:\n",
    "                    prev_node = current\n",
    "                    current = current.next \n",
    "                if current.data == value:\n",
    "                    prev_node.next = current.next\n",
    "                else:\n",
    "                    raise ValueError(\"%s not in list\" %  repr(value))\n",
    "                    \n",
    "    def __len__(self):\n",
    "        counter = 0\n",
    "        current = self.head\n",
    "        while current:\n",
    "            counter += 1 \n",
    "            current = current.next\n",
    "            return counter\n",
    "        \n",
    "    def __getitem__(self, index):\n",
    "        counter = 0\n",
    "        current = self.head\n",
    "        while current and index != counter:\n",
    "            counter += 1\n",
    "            current = current.next\n",
    "        if not current:\n",
    "            raise IndexError(\"list index out range\")\n",
    "        return current.data\n",
    "            \n",
    "                \n",
    "                    \n",
    "    def __str__(self):\n",
    "        out_str = \"[\"\n",
    "        current = self.head\n",
    "        while current.next:\n",
    "            out_str += \"%s,\" % repr(current.data)\n",
    "            current = current.next\n",
    "        out_str += \"%s]\" % current.data\n",
    "        return out_str"
   ]
  },
  {
   "cell_type": "code",
   "execution_count": 8,
   "id": "d0af377c",
   "metadata": {},
   "outputs": [
    {
     "name": "stdout",
     "output_type": "stream",
     "text": [
      "[1, 2, 'new', 3, 4]\n",
      "None\n"
     ]
    }
   ],
   "source": [
    "mylist = [1,2,3,4]\n",
    "\n",
    "sll = SinglyLinkedList()\n",
    "\n",
    "for i in range(5):\n",
    "    sll.append(i)\n",
    "\n",
    "mylist.insert(2,\"new\")\n",
    "sll.insert(2,\"new\")\n",
    "\n",
    "#sll.remove(\"Rafael\")\n",
    "\n",
    "print(mylist)\n",
    "#print(sll)\n",
    "print((sll[3]))"
   ]
  },
  {
   "cell_type": "code",
   "execution_count": 22,
   "id": "d1a5ab01",
   "metadata": {},
   "outputs": [
    {
     "name": "stdout",
     "output_type": "stream",
     "text": [
      "5\n",
      "6\n"
     ]
    }
   ],
   "source": [
    "# Example of pass by value:\n",
    "\n",
    "x = 5\n",
    "y = x\n",
    "\n",
    "y += 1 \n",
    "\n",
    "print(x)\n",
    "print(y)"
   ]
  },
  {
   "cell_type": "code",
   "execution_count": 25,
   "id": "1f5a36d5",
   "metadata": {},
   "outputs": [
    {
     "name": "stdout",
     "output_type": "stream",
     "text": [
      "[1, 2, 3, 4, 5]\n",
      "[1, 2, 3, 4, 5]\n",
      "139885969609792\n",
      "139885969609792\n"
     ]
    }
   ],
   "source": [
    "# Example of pass by reference:\n",
    "\n",
    "x = [1, 2, 3, 4]\n",
    "y = x\n",
    "\n",
    "y.append(5)\n",
    "\n",
    "print(x)\n",
    "print(y)\n",
    "\n",
    "print(id(x))\n",
    "print(id(y))"
   ]
  },
  {
   "cell_type": "code",
   "execution_count": 25,
   "id": "3077e599",
   "metadata": {},
   "outputs": [],
   "source": [
    "class DNode:\n",
    "    def __init__(self, data):\n",
    "        self.data = data\n",
    "        self.next = None\n",
    "        self.prev = None\n",
    "\n",
    "class DoublyLinkedList:\n",
    "    def __init__(self):\n",
    "        self.head = None\n",
    "    \n",
    "    def append(self, value):\n",
    "        new_node = Dnode(value)\n",
    "        if not self.head:\n",
    "            self.head = new.head\n",
    "        else:\n",
    "            current = self.head\n",
    "            while current.next:\n",
    "                current = current.next\n",
    "                current.next = new_node\n",
    "                new_node.prev = current \n",
    "    \n",
    "    def insert(self, index, value):\n",
    "        new_node = Node(value)\n",
    "        if not self.head:\n",
    "            self.head = new_node\n",
    "        else:\n",
    "            if index == 0:\n",
    "                temp_node = self.head\n",
    "                self.head = new_node\n",
    "                new_node.next = temp_node\n",
    "            else:\n",
    "                counter = 0\n",
    "                prev_node = None\n",
    "                current = self.head\n",
    "                while current.next and index != counter:\n",
    "                    counter += 1\n",
    "                    prev_node = current\n",
    "                    current = current.next\n",
    "                if not current.next:\n",
    "                    current.next = new_node\n",
    "                else:\n",
    "                    prev_node.next = new_node\n",
    "                    new_node.next = current\n",
    "        \n",
    "    def remove(self, value):\n",
    "        current = self.head\n",
    "        if current.data == value:   \n",
    "            self.head = current.next\n",
    "        else:\n",
    "            prev_node = None\n",
    "            while current.next and current.data != value: \n",
    "                prev_node = current\n",
    "                current = current.next\n",
    "            if current.data == value:\n",
    "                prev_node.next = current.next\n",
    "            else:\n",
    "                raise ValueError(\"%s not is list\" % repr(value))\n",
    "        \n",
    "    def __str__(self):\n",
    "        out_str = \"[\"\n",
    "        current = self.head\n",
    "        while current.next:\n",
    "            out_str += \"%s, \" % repr(current.data)\n",
    "            current = current.next\n",
    "        out_str += \"%s]\" % str(current.data)\n",
    "        return out_str\n",
    "                \n",
    "        "
   ]
  },
  {
   "cell_type": "code",
   "execution_count": 23,
   "id": "94731347",
   "metadata": {},
   "outputs": [
    {
     "name": "stdout",
     "output_type": "stream",
     "text": [
      "4\n",
      "[0, 0, 0, 0, 0, 0, 0, 0, 0, 0, 0, 0, 0, 0, 0, 0]\n",
      "[0, 0, 0, 0, 0, 0, 0, 0, 21, 0, 0, 0, 0, 0, 0, 0]\n",
      "The fibonacci number is: 21\n"
     ]
    }
   ],
   "source": [
    "x = 196\n",
    "\n",
    "modulus = x % 16\n",
    "\n",
    "print(modulus)\n",
    "\n",
    "values = [0 for i in range(16)]\n",
    "key = [0 for i in range(16)]\n",
    "\n",
    "print(mylist)\n",
    "\n",
    "#funcion\n",
    "\n",
    "def fib(n):\n",
    "    if n < 2:\n",
    "        return n\n",
    "    return fib(n-1) + fib(n-2)\n",
    "\n",
    "N = 8\n",
    "values[N%16] = fib(N)\n",
    "\n",
    "print(values)\n",
    "\n",
    "modulus_of_n = N%16\n",
    "\n",
    "if values[modulus_of_n]:\n",
    "    print(\"The fibonacci number is: %s\" % values[modulus_of_n])\n",
    "else:\n",
    "    print(\"The fibonacci number is: %s\" % fin(N))\n"
   ]
  },
  {
   "cell_type": "code",
   "execution_count": 24,
   "id": "a5d2b9d4",
   "metadata": {},
   "outputs": [
    {
     "name": "stdout",
     "output_type": "stream",
     "text": [
      "3025\n"
     ]
    }
   ],
   "source": [
    "class HashTable:\n",
    "    def __init__(self, size=11):\n",
    "        self.values = [0 for i in range(size)]\n",
    "print(55**2)"
   ]
  },
  {
   "cell_type": "code",
   "execution_count": null,
   "id": "ea2d2479",
   "metadata": {},
   "outputs": [],
   "source": []
  }
 ],
 "metadata": {
  "kernelspec": {
   "display_name": "Python 3 (ipykernel)",
   "language": "python",
   "name": "python3"
  },
  "language_info": {
   "codemirror_mode": {
    "name": "ipython",
    "version": 3
   },
   "file_extension": ".py",
   "mimetype": "text/x-python",
   "name": "python",
   "nbconvert_exporter": "python",
   "pygments_lexer": "ipython3",
   "version": "3.8.10"
  }
 },
 "nbformat": 4,
 "nbformat_minor": 5
}
